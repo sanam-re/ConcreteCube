{
  "nbformat": 4,
  "nbformat_minor": 0,
  "metadata": {
    "colab": {
      "name": "Working Model.ipynb",
      "provenance": [],
      "collapsed_sections": [],
      "toc_visible": true,
      "mount_file_id": "1Wxx4NcDNQ19S84vPwRT2-QJav6x4oazx",
      "authorship_tag": "ABX9TyNPCRBJu5dFKemsdWb2h4Ly",
      "include_colab_link": true
    },
    "kernelspec": {
      "name": "python3",
      "display_name": "Python 3"
    }
  },
  "cells": [
    {
      "cell_type": "markdown",
      "metadata": {
        "id": "view-in-github",
        "colab_type": "text"
      },
      "source": [
        "<a href=\"https://colab.research.google.com/github/sanam-re/ConcreteCube/blob/master/Working_Model.ipynb\" target=\"_parent\"><img src=\"https://colab.research.google.com/assets/colab-badge.svg\" alt=\"Open In Colab\"/></a>"
      ]
    },
    {
      "cell_type": "code",
      "metadata": {
        "id": "pF5KeEpT_cZd"
      },
      "source": [
        "import warnings\n",
        "warnings.filterwarnings(\"ignore\")\n",
        "\n",
        "import numpy as np # linear algebra\n",
        "import pandas as pd # data processing, CSV file I/O (e.g. pd.read_csv)"
      ],
      "execution_count": null,
      "outputs": []
    },
    {
      "cell_type": "code",
      "metadata": {
        "id": "uzl5MfAgAA7E",
        "colab": {
          "base_uri": "https://localhost:8080/",
          "height": 175
        },
        "outputId": "41b5444b-e217-4efc-ecd8-5ad81198a188"
      },
      "source": [
        "df = pd.read_csv(\"/compresive_strength_concrete.csv\")\n",
        "df.columns\n"
      ],
      "execution_count": null,
      "outputs": [
        {
          "output_type": "execute_result",
          "data": {
            "text/plain": [
              "Index(['Cement (component 1)(kg in a m^3 mixture)',\n",
              "       'Blast Furnace Slag (component 2)(kg in a m^3 mixture)',\n",
              "       'Fly Ash (component 3)(kg in a m^3 mixture)',\n",
              "       'Water  (component 4)(kg in a m^3 mixture)',\n",
              "       'Superplasticizer (component 5)(kg in a m^3 mixture)',\n",
              "       'Coarse Aggregate  (component 6)(kg in a m^3 mixture)',\n",
              "       'Fine Aggregate (component 7)(kg in a m^3 mixture)', 'Age (day)',\n",
              "       'Concrete compressive strength(MPa, megapascals) '],\n",
              "      dtype='object')"
            ]
          },
          "metadata": {
            "tags": []
          },
          "execution_count": 4
        }
      ]
    },
    {
      "cell_type": "code",
      "metadata": {
        "id": "I8JZ4haeAEmY"
      },
      "source": [
        "df_new = df.rename(columns={'Cement (component 1)(kg in a m^3 mixture)':'Cement',\n",
        "       'Blast Furnace Slag (component 2)(kg in a m^3 mixture)':'BFS',\n",
        "       'Fly Ash (component 3)(kg in a m^3 mixture)':'Fly_Ash',\n",
        "       'Water  (component 4)(kg in a m^3 mixture)':'Water',\n",
        "       'Superplasticizer (component 5)(kg in a m^3 mixture)':'Superplasticizer',\n",
        "       'Coarse Aggregate  (component 6)(kg in a m^3 mixture)':'Coarser_agg',\n",
        "       'Fine Aggregate (component 7)(kg in a m^3 mixture)':'Fine_agg',\n",
        "       'Age (day)':'Days',\n",
        "       'Concrete compressive strength(MPa, megapascals) ':'Comp_str'})"
      ],
      "execution_count": null,
      "outputs": []
    },
    {
      "cell_type": "code",
      "metadata": {
        "id": "z07J0uqIDEn4",
        "colab": {
          "base_uri": "https://localhost:8080/",
          "height": 70
        },
        "outputId": "089567f6-46a4-4c10-c709-7d54ba89721e"
      },
      "source": [
        "df_new.columns\n",
        "\n"
      ],
      "execution_count": null,
      "outputs": [
        {
          "output_type": "execute_result",
          "data": {
            "text/plain": [
              "Index(['Cement', 'BFS', 'Fly_Ash', 'Water', 'Superplasticizer', 'Coarser_agg',\n",
              "       'Fine_agg', 'Days', 'Comp_str'],\n",
              "      dtype='object')"
            ]
          },
          "metadata": {
            "tags": []
          },
          "execution_count": 6
        }
      ]
    },
    {
      "cell_type": "code",
      "metadata": {
        "id": "8u7-WTSuA0Fc"
      },
      "source": [
        "from sklearn.model_selection import train_test_split, cross_val_score\n",
        "features = ['Cement', 'BFS', 'Fly_Ash', 'Water', 'Superplasticizer', 'Coarser_agg',\n",
        "       'Fine_agg', 'Days']\n",
        "targets = ['Comp_str']\n",
        "\n",
        "X_train, X_test, y_train, y_test = train_test_split(df_new[features], df_new[targets], test_size=0.20, random_state=42)"
      ],
      "execution_count": null,
      "outputs": []
    },
    {
      "cell_type": "code",
      "metadata": {
        "id": "SJ3gcaoGAOsx"
      },
      "source": [
        "from sklearn.ensemble import RandomForestRegressor\n",
        "from sklearn.model_selection import GridSearchCV\n",
        "\n",
        "params_RFR = [{'n_estimators':[200, 250, 300, 350, 400, 450, 500, 550, 600]}]\n",
        "\n",
        "RFR = RandomForestRegressor()\n",
        "grid_RFR = GridSearchCV(RFR, params_RFR, cv=3, scoring='r2')\n",
        "model_RFR = grid_RFR.fit(X_train, y_train)\n",
        "\n",
        "\n",
        "RFR_1 = RandomForestRegressor(n_estimators=300, criterion='mse')\n",
        "\n",
        "\n",
        "\n",
        "\n",
        "model_RFR_1 = RFR_1.fit(X_train,y_train)\n",
        "\n",
        "\n",
        "\n",
        "\n",
        "y_RFR1 = model_RFR_1.predict(X_test)"
      ],
      "execution_count": null,
      "outputs": []
    },
    {
      "cell_type": "code",
      "metadata": {
        "id": "fJu_KmbBAn2g",
        "colab": {
          "base_uri": "https://localhost:8080/",
          "height": 645
        },
        "outputId": "c393f750-a059-4ae0-c5c8-1bc7609af9c9"
      },
      "source": [
        "from sklearn.metrics import mean_squared_error\n",
        "import matplotlib.pyplot as plt\n",
        "import seaborn as sns\n",
        "\n",
        "plt.figure(figsize=(15,10))\n",
        "x = np.linspace(0,80,1000)\n",
        "y=x\n",
        "plt.scatter(y_test, y_RFR1)\n",
        "plt.plot(x,y)\n",
        "\n",
        "print(\"The R^2 for the test data in this Random Forest Regression is: \", model_RFR_1.score(X_test,y_test))\n",
        "\n",
        "print(\"The R^2 for the training data in this Random Forest Regression is: \", model_RFR_1.score(X_train,y_train))\n",
        "\n",
        "RMSE = np.sqrt(mean_squared_error(y_test,y_RFR1))\n",
        "\n",
        "print(\"The Root Mean Squared Error for this is: \",RMSE )"
      ],
      "execution_count": null,
      "outputs": [
        {
          "output_type": "stream",
          "text": [
            "The R^2 for the test data in this Random Forest Regression is:  0.8779991187261029\n",
            "The R^2 for the training data in this Random Forest Regression is:  0.9865576440187063\n",
            "The Root Mean Squared Error for this is:  5.606853680651977\n"
          ],
          "name": "stdout"
        },
        {
          "output_type": "display_data",
          "data": {
            "image/png": "[encoded data removed]",
            "text/plain": [
              "<Figure size 1080x720 with 1 Axes>"
            ]
          },
          "metadata": {
            "tags": [],
            "needs_background": "light"
          }
        }
      ]
    },
    {
      "cell_type": "code",
      "metadata": {
        "id": "jvIESEKCEkqU"
      },
      "source": [
        "import pickle\n",
        "\n",
        "pickle.dump(RFR_1,open('model.pkl','wb'))\n",
        "\n",
        "model = pickle.load(open('model.pkl','rb'))"
      ],
      "execution_count": null,
      "outputs": []
    },
    {
      "cell_type": "markdown",
      "metadata": {
        "id": "jUIpUQiXGVCi"
      },
      "source": [
        "# New Section"
      ]
    }
  ]
}